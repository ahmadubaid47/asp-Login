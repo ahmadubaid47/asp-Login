{
 "cells": [
  {
   "cell_type": "code",
   "execution_count": 108,
   "metadata": {},
   "outputs": [],
   "source": [
    "graph ={\"A\": [[\"B\",25], [\"C\",28]],\n",
    "        \"B\": [[\"D\",22],[\"E\",19], [\"F\",16]],\n",
    "        \"C\": [[\"G\",10],[\"H\",19]],\n",
    "        \"D\": [[\"I\",9]],\n",
    "        \"E\": [[\"J\",7],[\"K\",6]],\n",
    "        \"F\": [],\n",
    "        \"G\": [[\"L\",3],[\"M\",0]],\n",
    "        \"H\": [[\"N\",4]],\n",
    "        \"I\": [],\n",
    "        \"J\": [],\n",
    "        \"K\": [],\n",
    "        \"L\": [],\n",
    "        \"M\": [],\n",
    "        \"N\": []\n",
    "}\n"
   ]
  },
  {
   "cell_type": "code",
   "execution_count": 119,
   "metadata": {},
   "outputs": [
    {
     "name": "stdout",
     "output_type": "stream",
     "text": [
      "After sorting [['F', 16], ['E', 19], ['D', 22], ['C', 28]]\n",
      "After sorting [['E', 19], ['D', 22], ['C', 28]]\n",
      "After sorting [['K', 6], ['J', 7], ['D', 22], ['C', 28]]\n",
      "After sorting [['J', 7], ['D', 22], ['C', 28]]\n",
      "After sorting [['D', 22], ['C', 28]]\n",
      "After sorting [['I', 9], ['C', 28]]\n",
      "After sorting [['C', 28]]\n",
      "After sorting [['G', 10], ['H', 19]]\n",
      "After sorting [['M', 0], ['L', 3], ['H', 19]]\n",
      "\n",
      "<============Goal Node Found============>\n",
      "\n",
      "['A', 'B', 'F', 'E', 'K', 'J', 'D', 'I', 'C', 'G', 'M']\n"
     ]
    }
   ],
   "source": [
    "open_list = []\n",
    "close = []\n",
    "start = 'A'\n",
    "goal = 'M'\n",
    "\n",
    "close.append(start)\n",
    "\n",
    "for x in graph[start]:\n",
    "    open_list.append(x)\n",
    "\n",
    "while len(open_list) != 0:\n",
    "\n",
    "    x=open_list.pop(0)\n",
    "#     print(x)\n",
    "    if x[0] == goal:\n",
    "        print(\"\\n<============Goal Node Found============>\\n\")\n",
    "        close.append(x[0])\n",
    "        print(close)\n",
    "        break\n",
    "    else:\n",
    "        for child in graph[x[0][0]]:\n",
    "            if not(child in open_list) or not(child in close):\n",
    "                open_list.append(child)\n",
    "                \n",
    "            if child in open_list:\n",
    "                open_list.remove(child)\n",
    "                open_list.append(child)\n",
    "#                 print(\"remove_open\",child)\n",
    "                \n",
    "            if child in close:\n",
    "                close.remove(child)\n",
    "                print(\"remove_close\",child)\n",
    "                open_list.append(child)\n",
    "                \n",
    "        open_list.sort(key = lambda x:x[1])\n",
    "        close.append(x[0])\n",
    "        print(\"After sorting\",open_list)    "
   ]
  },
  {
   "cell_type": "code",
   "execution_count": null,
   "metadata": {},
   "outputs": [],
   "source": []
  }
 ],
 "metadata": {
  "kernelspec": {
   "display_name": "Python 3",
   "language": "python",
   "name": "python3"
  },
  "language_info": {
   "codemirror_mode": {
    "name": "ipython",
    "version": 3
   },
   "file_extension": ".py",
   "mimetype": "text/x-python",
   "name": "python",
   "nbconvert_exporter": "python",
   "pygments_lexer": "ipython3",
   "version": "3.8.1"
  }
 },
 "nbformat": 4,
 "nbformat_minor": 4
}
